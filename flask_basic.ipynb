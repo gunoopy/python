{
 "cells": [
  {
   "cell_type": "markdown",
   "metadata": {},
   "source": [
    "## flask application"
   ]
  },
  {
   "cell_type": "code",
   "execution_count": 4,
   "metadata": {
    "scrolled": true
   },
   "outputs": [
    {
     "name": "stdout",
     "output_type": "stream",
     "text": [
      " * Serving Flask app \"__main__\" (lazy loading)\n",
      " * Environment: production\n",
      "   WARNING: This is a development server. Do not use it in a production deployment.\n",
      "   Use a production WSGI server instead.\n",
      " * Debug mode: off\n"
     ]
    },
    {
     "name": "stderr",
     "output_type": "stream",
     "text": [
      " * Running on http://127.0.0.1:5000/ (Press CTRL+C to quit)\n",
      "127.0.0.1 - - [12/Oct/2021 10:11:23] \"\u001b[37mGET / HTTP/1.1\u001b[0m\" 200 -\n",
      "127.0.0.1 - - [12/Oct/2021 10:11:23] \"\u001b[33mGET /favicon.ico HTTP/1.1\u001b[0m\" 404 -\n"
     ]
    }
   ],
   "source": [
    "from flask import Flask\n",
    "\n",
    "# 어플리케이션 생성\n",
    "app = Flask(__name__)\n",
    "\n",
    "# 페이지 접근 시 리턴할 값\n",
    "@app.route('/')\n",
    "def home() :\n",
    "    return 'hello!'\n",
    "\n",
    "# 어플리케이션 실행\n",
    "if __name__ == '__main__' :\n",
    "    app.run()"
   ]
  },
  {
   "cell_type": "markdown",
   "metadata": {},
   "source": [
    "<br/>\n",
    "<br/>\n",
    "<br/>\n",
    "<br/>"
   ]
  },
  {
   "cell_type": "markdown",
   "metadata": {},
   "source": [
    "## pages\n",
    "- url 뒤에 경로를 설정하면 각 함수에 맞게 return 됨\n",
    "- 127.0.0.1:5000/\n",
    "- 127.0.0.1:5000/page1\n",
    "- 127.0.0.1:5000/page2"
   ]
  },
  {
   "cell_type": "code",
   "execution_count": 5,
   "metadata": {},
   "outputs": [
    {
     "name": "stdout",
     "output_type": "stream",
     "text": [
      " * Serving Flask app \"__main__\" (lazy loading)\n",
      " * Environment: production\n",
      "   WARNING: This is a development server. Do not use it in a production deployment.\n",
      "   Use a production WSGI server instead.\n",
      " * Debug mode: off\n"
     ]
    },
    {
     "name": "stderr",
     "output_type": "stream",
     "text": [
      " * Running on http://127.0.0.1:5000/ (Press CTRL+C to quit)\n",
      "127.0.0.1 - - [12/Oct/2021 10:13:16] \"\u001b[37mGET / HTTP/1.1\u001b[0m\" 200 -\n",
      "127.0.0.1 - - [12/Oct/2021 10:13:20] \"\u001b[37mGET /page1 HTTP/1.1\u001b[0m\" 200 -\n"
     ]
    }
   ],
   "source": [
    "from flask import Flask\n",
    "\n",
    "app = Flask(__name__)\n",
    "\n",
    "@app.route('/')\n",
    "def home() :\n",
    "    return 'hello!'\n",
    "\n",
    "\n",
    "@app.route('/page1')\n",
    "def page1() :\n",
    "    return 'page1'\n",
    "\n",
    "\n",
    "'''\n",
    "파이썬 코드 아무거나 작성 가능\n",
    "결과를 잘 리턴만 해주면 됨\n",
    "'''\n",
    "@app.route('/page2')\n",
    "def page2() :\n",
    "    result = 0\n",
    "    for i in range(100) :\n",
    "        result += i\n",
    "    return f'Total is {result}'\n",
    "\n",
    "\n",
    "if __name__ == '__main__' :\n",
    "    app.run()"
   ]
  },
  {
   "cell_type": "markdown",
   "metadata": {},
   "source": [
    "<br/>\n",
    "<br/>\n",
    "<br/>\n",
    "<br/>"
   ]
  },
  {
   "cell_type": "markdown",
   "metadata": {},
   "source": [
    "## HTML\n",
    "- 태그(tag) 형식의 HTML 작성 후 return"
   ]
  },
  {
   "cell_type": "code",
   "execution_count": 6,
   "metadata": {},
   "outputs": [
    {
     "name": "stdout",
     "output_type": "stream",
     "text": [
      " * Serving Flask app \"__main__\" (lazy loading)\n",
      " * Environment: production\n",
      "   WARNING: This is a development server. Do not use it in a production deployment.\n",
      "   Use a production WSGI server instead.\n",
      " * Debug mode: off\n"
     ]
    },
    {
     "name": "stderr",
     "output_type": "stream",
     "text": [
      " * Running on http://127.0.0.1:5000/ (Press CTRL+C to quit)\n",
      "127.0.0.1 - - [12/Oct/2021 10:27:51] \"\u001b[37mGET / HTTP/1.1\u001b[0m\" 200 -\n"
     ]
    }
   ],
   "source": [
    "from flask import Flask\n",
    "\n",
    "app = Flask(__name__)\n",
    "\n",
    "@app.route('/')\n",
    "def home() :\n",
    "    html = '''\n",
    "    <h1>Hello world</h1>\n",
    "    <h2>Hello world</h2>\n",
    "    <h3>Hello world</h3>\n",
    "    <h4>Hello world</h4>\n",
    "    <h5>Hello world</h5>\n",
    "    '''\n",
    "    return html\n",
    "\n",
    "\n",
    "if __name__ == '__main__' :\n",
    "    app.run()"
   ]
  },
  {
   "cell_type": "markdown",
   "metadata": {},
   "source": [
    "<br/>\n",
    "<br/>\n",
    "<br/>\n",
    "<br/>"
   ]
  },
  {
   "cell_type": "markdown",
   "metadata": {},
   "source": [
    "## form tag\n",
    "- 페이지에서 사용자의 input을 받을 때 처리하는 방식\n",
    "- GET 방식 또는 POST 방식을 method 속성에 작성 (디폴트는 GET 방식)\n",
    "    - `<form method = 'POST'></form>`\n",
    "- input을 처리할 페이지를 action 속성에 작성\n",
    "    - `<form action = '/result'></form>`\n",
    "- input을 받을 박스\n",
    "    - `<input type = 'text' name = 'first'>`\n",
    "- input을 제출할 버튼\n",
    "    - `<input type = 'submit' name = '제출'>`\n",
    "- `request.form`으로 전달받은 값을 처리"
   ]
  },
  {
   "cell_type": "markdown",
   "metadata": {},
   "source": [
    "![web](files/images/web.png)"
   ]
  },
  {
   "cell_type": "code",
   "execution_count": 14,
   "metadata": {},
   "outputs": [
    {
     "name": "stdout",
     "output_type": "stream",
     "text": [
      " * Serving Flask app \"__main__\" (lazy loading)\n",
      " * Environment: production\n",
      "   WARNING: This is a development server. Do not use it in a production deployment.\n",
      "   Use a production WSGI server instead.\n",
      " * Debug mode: off\n"
     ]
    },
    {
     "name": "stderr",
     "output_type": "stream",
     "text": [
      " * Running on http://127.0.0.1:5000/ (Press CTRL+C to quit)\n",
      "127.0.0.1 - - [12/Oct/2021 10:43:39] \"\u001b[37mGET / HTTP/1.1\u001b[0m\" 200 -\n",
      "127.0.0.1 - - [12/Oct/2021 10:43:41] \"\u001b[37mPOST /result HTTP/1.1\u001b[0m\" 200 -\n"
     ]
    }
   ],
   "source": [
    "from flask import Flask, request\n",
    "\n",
    "app = Flask(__name__)\n",
    "\n",
    "@app.route('/')\n",
    "def home() :\n",
    "    html = '''\n",
    "    <form method = 'POST' action = '/result'>\n",
    "        <input type = 'text' name = 'first'>\n",
    "        <input type = 'text' name = 'second'>\n",
    "        <input type = 'text' name = 'third'>\n",
    "        <input type = 'submit' name = '제출'>\n",
    "    </form>\n",
    "    '''\n",
    "    return html\n",
    "\n",
    "\n",
    "@app.route('/result', methods = ['POST'])\n",
    "def result() :\n",
    "    result = request.form # 사용자의 input\n",
    "    return result\n",
    "\n",
    "if __name__ == '__main__' :\n",
    "    app.run()"
   ]
  },
  {
   "cell_type": "markdown",
   "metadata": {},
   "source": [
    "<br/>\n",
    "<br/>"
   ]
  },
  {
   "cell_type": "markdown",
   "metadata": {},
   "source": [
    "- 결과를 html 형식으로"
   ]
  },
  {
   "cell_type": "code",
   "execution_count": 15,
   "metadata": {},
   "outputs": [
    {
     "name": "stdout",
     "output_type": "stream",
     "text": [
      " * Serving Flask app \"__main__\" (lazy loading)\n",
      " * Environment: production\n",
      "   WARNING: This is a development server. Do not use it in a production deployment.\n",
      "   Use a production WSGI server instead.\n",
      " * Debug mode: off\n"
     ]
    },
    {
     "name": "stderr",
     "output_type": "stream",
     "text": [
      " * Running on http://127.0.0.1:5000/ (Press CTRL+C to quit)\n",
      "127.0.0.1 - - [12/Oct/2021 11:29:17] \"\u001b[37mGET / HTTP/1.1\u001b[0m\" 200 -\n",
      "127.0.0.1 - - [12/Oct/2021 11:29:21] \"\u001b[37mPOST /result HTTP/1.1\u001b[0m\" 200 -\n"
     ]
    }
   ],
   "source": [
    "from flask import Flask, request\n",
    "\n",
    "app = Flask(__name__)\n",
    "\n",
    "@app.route('/')\n",
    "def home() :\n",
    "    html = '''\n",
    "    <form method = 'POST' action = '/result'>\n",
    "        <input type = 'text' name = 'first'>\n",
    "        <input type = 'text' name = 'second'>\n",
    "        <input type = 'text' name = 'third'>\n",
    "        <input type = 'submit' name = '제출'>\n",
    "    </form>\n",
    "    '''\n",
    "    return html\n",
    "\n",
    "\n",
    "@app.route('/result', methods = ['POST'])\n",
    "def result() :\n",
    "    result = request.form\n",
    "\n",
    "    return_values = f'''\n",
    "    <h3>First value : {result['first']}</h3>\n",
    "    <h3>Second value : {result['second']}</h3>\n",
    "    <h3>Third value : {result['third']}</h3>\n",
    "    '''\n",
    "\n",
    "    return return_values\n",
    "\n",
    "if __name__ == '__main__' :\n",
    "    app.run()"
   ]
  },
  {
   "cell_type": "markdown",
   "metadata": {},
   "source": [
    "<br/>\n",
    "<br/>\n",
    "<br/>\n",
    "<br/>"
   ]
  },
  {
   "cell_type": "markdown",
   "metadata": {},
   "source": [
    "## iris model"
   ]
  },
  {
   "cell_type": "code",
   "execution_count": null,
   "metadata": {
    "ExecuteTime": {
     "start_time": "2021-10-26T00:46:38.926Z"
    }
   },
   "outputs": [
    {
     "name": "stdout",
     "output_type": "stream",
     "text": [
      " * Serving Flask app \"__main__\" (lazy loading)\n",
      " * Environment: production\n",
      "   WARNING: This is a development server. Do not use it in a production deployment.\n",
      "   Use a production WSGI server instead.\n",
      " * Debug mode: off\n"
     ]
    },
    {
     "name": "stderr",
     "output_type": "stream",
     "text": [
      " * Running on http://127.0.0.1:5000/ (Press CTRL+C to quit)\n",
      "127.0.0.1 - - [26/Oct/2021 09:46:46] \"\u001b[37mGET / HTTP/1.1\u001b[0m\" 200 -\n",
      "127.0.0.1 - - [26/Oct/2021 09:46:50] \"\u001b[37mPOST /result HTTP/1.1\u001b[0m\" 200 -\n"
     ]
    }
   ],
   "source": [
    "from flask import Flask, request\n",
    "import numpy as np\n",
    "import pandas as pd\n",
    "import seaborn as sns\n",
    "import matplotlib.pyplot as plt\n",
    "from tensorflow.keras import models\n",
    "import pickle\n",
    "\n",
    "app = Flask(__name__)\n",
    "\n",
    "\n",
    "# 전처리, 모델예측, 그래프 저장 함수\n",
    "def processing(new_data) :\n",
    "    '''\n",
    "    - new_data : 1D-array\n",
    "        ex) [6.1, 2.8, 4.7, 1.2]\n",
    "    - return : predict result(label, string) & plot result(figure)\n",
    "    '''\n",
    "    \n",
    "    # load files\n",
    "    MODEL = models.load_model('files/iris_model.h5')\n",
    "    \n",
    "    with open('files/label_info.pickle', 'rb') as f :\n",
    "        LABELS = pickle.load(f)\n",
    "\n",
    "    with open('files/standard_scaler.pickle', 'rb') as f :\n",
    "        SCALER = pickle.load(f)\n",
    "        \n",
    "        \n",
    "    # scaling & predict\n",
    "    new_data = SCALER.transform(new_data.reshape(1, -1))\n",
    "    pred_prob = MODEL.predict(new_data)[0]\n",
    "    pred_class = LABELS[pred_prob.argmax()]\n",
    "\n",
    "    \n",
    "    # result dataframe\n",
    "    pred_prob = pd.DataFrame(pred_prob, columns=['prob']).rename(index=LABELS)\n",
    "    pred_prob = pred_prob.reset_index().sort_values('prob', ascending=False)\n",
    "\n",
    "    \n",
    "    # save plot\n",
    "    sns.barplot(data=pred_prob, x='prob', y='index')\n",
    "    plt.xlabel('Probability')\n",
    "    plt.ylabel('')\n",
    "    plt.xlim(0, 1)\n",
    "    plt.savefig('static/image/result.png', dpi = 300)\n",
    "\n",
    "    return pred_class\n",
    "\n",
    "\n",
    "@app.route('/')\n",
    "def home() :\n",
    "    html = '''\n",
    "    <form method = 'POST' action = '/result'>\n",
    "        <div>sepal_length : <input type = 'text' name = 'sepal_length'></div>\n",
    "        <div>sepal_width : <input type = 'text' name = 'sepal_width'></div>\n",
    "        <div>petal_length : <input type = 'text' name = 'petal_length'></div>\n",
    "        <div>petal_width : <input type = 'text' name = 'petal_width'></div>\n",
    "        <div><input type = 'submit' value = 'submit'></div>\n",
    "    </form>\n",
    "    '''\n",
    "    return html\n",
    "\n",
    "\n",
    "@app.route('/result', methods = ['POST'])\n",
    "def result() :\n",
    "    FEATURE_NAMES = ['sepal_length', 'sepal_width', 'petal_length', 'petal_width']\n",
    "    result = request.form\n",
    "    \n",
    "    # feature name 순서에 맞게 1차원 배열로 정렬\n",
    "    result = np.array([result[feature_name] for feature_name in FEATURE_NAMES])\n",
    "\n",
    "    prediction = processing(result)\n",
    "\n",
    "    html = f'''\n",
    "    <h1>Prediction Result : {prediction}</h1>\n",
    "    <img src= \"static/image/result.png\" style=\"width : 600px;\">\n",
    "    '''\n",
    "    return html\n",
    "\n",
    "\n",
    "if __name__ == '__main__' :\n",
    "    app.run()"
   ]
  }
 ],
 "metadata": {
  "kernelspec": {
   "display_name": "Python 3",
   "language": "python",
   "name": "python3"
  },
  "language_info": {
   "codemirror_mode": {
    "name": "ipython",
    "version": 3
   },
   "file_extension": ".py",
   "mimetype": "text/x-python",
   "name": "python",
   "nbconvert_exporter": "python",
   "pygments_lexer": "ipython3",
   "version": "3.8.5"
  },
  "toc": {
   "base_numbering": 1,
   "nav_menu": {},
   "number_sections": true,
   "sideBar": true,
   "skip_h1_title": false,
   "title_cell": "Table of Contents",
   "title_sidebar": "Contents",
   "toc_cell": false,
   "toc_position": {},
   "toc_section_display": true,
   "toc_window_display": false
  },
  "varInspector": {
   "cols": {
    "lenName": 16,
    "lenType": 16,
    "lenVar": 40
   },
   "kernels_config": {
    "python": {
     "delete_cmd_postfix": "",
     "delete_cmd_prefix": "del ",
     "library": "var_list.py",
     "varRefreshCmd": "print(var_dic_list())"
    },
    "r": {
     "delete_cmd_postfix": ") ",
     "delete_cmd_prefix": "rm(",
     "library": "var_list.r",
     "varRefreshCmd": "cat(var_dic_list()) "
    }
   },
   "types_to_exclude": [
    "module",
    "function",
    "builtin_function_or_method",
    "instance",
    "_Feature"
   ],
   "window_display": false
  }
 },
 "nbformat": 4,
 "nbformat_minor": 5
}
