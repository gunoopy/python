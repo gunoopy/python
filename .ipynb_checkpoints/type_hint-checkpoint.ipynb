{
 "cells": [
  {
   "cell_type": "markdown",
   "metadata": {},
   "source": [
    "# Type Hint\n",
    "> 함수의 인자와 반환값에 타입 힌트를 설정  \n",
    "> 정적 분석과 리팩토링에서 타입 정보를 추론하는 것에 대한 도움을 줌"
   ]
  },
  {
   "cell_type": "markdown",
   "metadata": {},
   "source": [
    "- 기본 사용 방법"
   ]
  },
  {
   "cell_type": "code",
   "execution_count": 2,
   "metadata": {},
   "outputs": [],
   "source": [
    "def func(var1 : int = 3, var2 : str = 'hello') -> str :\n",
    "    '''\n",
    "    var1 : int 타입으로 사용\n",
    "    var2 : string 타입으로 사용\n",
    "    return : string 타입이 리턴\n",
    "    '''\n",
    "    return var2 * var1"
   ]
  },
  {
   "cell_type": "code",
   "execution_count": 3,
   "metadata": {},
   "outputs": [
    {
     "data": {
      "text/plain": [
       "'hellohellohello'"
      ]
     },
     "execution_count": 3,
     "metadata": {},
     "output_type": "execute_result"
    }
   ],
   "source": [
    "func()"
   ]
  },
  {
   "cell_type": "code",
   "execution_count": 4,
   "metadata": {},
   "outputs": [
    {
     "data": {
      "text/plain": [
       "'pythonpythonpythonpythonpython'"
      ]
     },
     "execution_count": 4,
     "metadata": {},
     "output_type": "execute_result"
    }
   ],
   "source": [
    "func(5, 'python')"
   ]
  },
  {
   "cell_type": "code",
   "execution_count": 5,
   "metadata": {},
   "outputs": [
    {
     "data": {
      "text/plain": [
       "50"
      ]
     },
     "execution_count": 5,
     "metadata": {},
     "output_type": "execute_result"
    }
   ],
   "source": [
    "func(5, 10) # 타입을 올바르게 넣지 않아도 에러나 경고 메시지가 안 뜸"
   ]
  },
  {
   "cell_type": "markdown",
   "metadata": {},
   "source": [
    "- 특정 타입으로 이루어진 List 타입"
   ]
  },
  {
   "cell_type": "code",
   "execution_count": 7,
   "metadata": {},
   "outputs": [
    {
     "name": "stdout",
     "output_type": "stream",
     "text": [
      "['A', 'B', 'C'] [1, 2, 3, 4, 5]\n"
     ]
    }
   ],
   "source": [
    "from typing import List\n",
    "\n",
    "def func(str_list : List[str], int_list : List[int]) :\n",
    "    '''\n",
    "    str_list : string 타입으로 이루어진 List\n",
    "    int_list : int 타입으로 이루어진 List\n",
    "    '''\n",
    "    print(str_list, int_list)\n",
    "    \n",
    "func(['A', 'B', 'C'], [1, 2, 3, 4, 5])"
   ]
  },
  {
   "cell_type": "markdown",
   "metadata": {},
   "source": [
    "- 여러 개의 타입 허용"
   ]
  },
  {
   "cell_type": "code",
   "execution_count": 2,
   "metadata": {},
   "outputs": [
    {
     "name": "stdout",
     "output_type": "stream",
     "text": [
      "10\n",
      "-1\n",
      "hello\n"
     ]
    }
   ],
   "source": [
    "from typing import List, Union\n",
    "\n",
    "def func(a : Union[int, str] = 10) :\n",
    "    '''\n",
    "    a : int 타입 또는 string 타입\n",
    "    '''\n",
    "    print(a)\n",
    "    \n",
    "func()\n",
    "func(-1)\n",
    "func('hello')"
   ]
  },
  {
   "cell_type": "code",
   "execution_count": null,
   "metadata": {},
   "outputs": [],
   "source": []
  }
 ],
 "metadata": {
  "kernelspec": {
   "display_name": "Python 3",
   "language": "python",
   "name": "python3"
  },
  "language_info": {
   "codemirror_mode": {
    "name": "ipython",
    "version": 3
   },
   "file_extension": ".py",
   "mimetype": "text/x-python",
   "name": "python",
   "nbconvert_exporter": "python",
   "pygments_lexer": "ipython3",
   "version": "3.8.5"
  }
 },
 "nbformat": 4,
 "nbformat_minor": 4
}
