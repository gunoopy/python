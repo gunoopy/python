{
 "cells": [
  {
   "cell_type": "markdown",
   "metadata": {},
   "source": [
    "## flask application"
   ]
  },
  {
   "cell_type": "code",
   "execution_count": 4,
   "metadata": {
    "scrolled": true
   },
   "outputs": [
    {
     "name": "stdout",
     "output_type": "stream",
     "text": [
      " * Serving Flask app \"__main__\" (lazy loading)\n",
      " * Environment: production\n",
      "   WARNING: This is a development server. Do not use it in a production deployment.\n",
      "   Use a production WSGI server instead.\n",
      " * Debug mode: off\n"
     ]
    },
    {
     "name": "stderr",
     "output_type": "stream",
     "text": [
      " * Running on http://127.0.0.1:5000/ (Press CTRL+C to quit)\n",
      "127.0.0.1 - - [12/Oct/2021 10:11:23] \"\u001b[37mGET / HTTP/1.1\u001b[0m\" 200 -\n",
      "127.0.0.1 - - [12/Oct/2021 10:11:23] \"\u001b[33mGET /favicon.ico HTTP/1.1\u001b[0m\" 404 -\n"
     ]
    }
   ],
   "source": [
    "from flask import Flask\n",
    "\n",
    "# 어플리케이션 생성\n",
    "app = Flask(__name__)\n",
    "\n",
    "# 페이지 접근 시 리턴할 값\n",
    "@app.route('/')\n",
    "def home() :\n",
    "    return 'hello!'\n",
    "\n",
    "# 어플리케이션 실행\n",
    "if __name__ == '__main__' :\n",
    "    app.run()"
   ]
  },
  {
   "cell_type": "markdown",
   "metadata": {},
   "source": [
    "<br/>\n",
    "<br/>\n",
    "<br/>\n",
    "<br/>"
   ]
  },
  {
   "cell_type": "markdown",
   "metadata": {},
   "source": [
    "## pages\n",
    "- url 뒤에 경로를 설정하면 각 함수에 맞게 return 됨\n",
    "- 127.0.0.1:5000/\n",
    "- 127.0.0.1:5000/page1\n",
    "- 127.0.0.1:5000/page2"
   ]
  },
  {
   "cell_type": "code",
   "execution_count": 5,
   "metadata": {},
   "outputs": [
    {
     "name": "stdout",
     "output_type": "stream",
     "text": [
      " * Serving Flask app \"__main__\" (lazy loading)\n",
      " * Environment: production\n",
      "   WARNING: This is a development server. Do not use it in a production deployment.\n",
      "   Use a production WSGI server instead.\n",
      " * Debug mode: off\n"
     ]
    },
    {
     "name": "stderr",
     "output_type": "stream",
     "text": [
      " * Running on http://127.0.0.1:5000/ (Press CTRL+C to quit)\n",
      "127.0.0.1 - - [12/Oct/2021 10:13:16] \"\u001b[37mGET / HTTP/1.1\u001b[0m\" 200 -\n",
      "127.0.0.1 - - [12/Oct/2021 10:13:20] \"\u001b[37mGET /page1 HTTP/1.1\u001b[0m\" 200 -\n"
     ]
    }
   ],
   "source": [
    "from flask import Flask\n",
    "\n",
    "app = Flask(__name__)\n",
    "\n",
    "@app.route('/')\n",
    "def home() :\n",
    "    return 'hello!'\n",
    "\n",
    "\n",
    "@app.route('/page1')\n",
    "def page1() :\n",
    "    return 'page1'\n",
    "\n",
    "\n",
    "'''\n",
    "파이썬 코드 아무거나 작성 가능\n",
    "결과를 잘 리턴만 해주면 됨\n",
    "'''\n",
    "@app.route('/page2')\n",
    "def page2() :\n",
    "    result = 0\n",
    "    for i in range(100) :\n",
    "        result += i\n",
    "    return f'Total is {result}'\n",
    "\n",
    "\n",
    "if __name__ == '__main__' :\n",
    "    app.run()"
   ]
  },
  {
   "cell_type": "markdown",
   "metadata": {},
   "source": [
    "<br/>\n",
    "<br/>\n",
    "<br/>\n",
    "<br/>"
   ]
  },
  {
   "cell_type": "markdown",
   "metadata": {},
   "source": [
    "## HTML\n",
    "- 태그(tag) 형식의 HTML 작성 후 return"
   ]
  },
  {
   "cell_type": "code",
   "execution_count": 6,
   "metadata": {},
   "outputs": [
    {
     "name": "stdout",
     "output_type": "stream",
     "text": [
      " * Serving Flask app \"__main__\" (lazy loading)\n",
      " * Environment: production\n",
      "   WARNING: This is a development server. Do not use it in a production deployment.\n",
      "   Use a production WSGI server instead.\n",
      " * Debug mode: off\n"
     ]
    },
    {
     "name": "stderr",
     "output_type": "stream",
     "text": [
      " * Running on http://127.0.0.1:5000/ (Press CTRL+C to quit)\n",
      "127.0.0.1 - - [12/Oct/2021 10:27:51] \"\u001b[37mGET / HTTP/1.1\u001b[0m\" 200 -\n"
     ]
    }
   ],
   "source": [
    "from flask import Flask\n",
    "\n",
    "app = Flask(__name__)\n",
    "\n",
    "@app.route('/')\n",
    "def home() :\n",
    "    html = '''\n",
    "    <h1>Hello world</h1>\n",
    "    <h2>Hello world</h2>\n",
    "    <h3>Hello world</h3>\n",
    "    <h4>Hello world</h4>\n",
    "    <h5>Hello world</h5>\n",
    "    '''\n",
    "    return html\n",
    "\n",
    "\n",
    "if __name__ == '__main__' :\n",
    "    app.run()"
   ]
  },
  {
   "cell_type": "markdown",
   "metadata": {},
   "source": [
    "<br/>\n",
    "<br/>\n",
    "<br/>\n",
    "<br/>"
   ]
  },
  {
   "cell_type": "markdown",
   "metadata": {},
   "source": [
    "## form tag\n",
    "- 페이지에서 사용자의 input을 받을 때 처리하는 방식\n",
    "- GET 방식 또는 POST 방식을 method 속성에 작성 (디폴트는 GET 방식)\n",
    "    - `<form method = 'POST'></form>`\n",
    "- input을 처리할 페이지를 action 속성에 작성\n",
    "    - `<form action = '/result'></form>`\n",
    "- input을 받을 박스\n",
    "    - `<input type = 'text' name = 'first'>`\n",
    "- input을 제출할 버튼\n",
    "    - `<input type = 'submit' name = '제출'>`\n",
    "- `request.form`으로 전달받은 값을 처리"
   ]
  },
  {
   "cell_type": "markdown",
   "metadata": {},
   "source": [
    "![web](images/web.png)"
   ]
  },
  {
   "cell_type": "code",
   "execution_count": 14,
   "metadata": {},
   "outputs": [
    {
     "name": "stdout",
     "output_type": "stream",
     "text": [
      " * Serving Flask app \"__main__\" (lazy loading)\n",
      " * Environment: production\n",
      "   WARNING: This is a development server. Do not use it in a production deployment.\n",
      "   Use a production WSGI server instead.\n",
      " * Debug mode: off\n"
     ]
    },
    {
     "name": "stderr",
     "output_type": "stream",
     "text": [
      " * Running on http://127.0.0.1:5000/ (Press CTRL+C to quit)\n",
      "127.0.0.1 - - [12/Oct/2021 10:43:39] \"\u001b[37mGET / HTTP/1.1\u001b[0m\" 200 -\n",
      "127.0.0.1 - - [12/Oct/2021 10:43:41] \"\u001b[37mPOST /result HTTP/1.1\u001b[0m\" 200 -\n"
     ]
    }
   ],
   "source": [
    "from flask import Flask, request\n",
    "\n",
    "app = Flask(__name__)\n",
    "\n",
    "@app.route('/')\n",
    "def home() :\n",
    "    html = '''\n",
    "    <form method = 'POST' action = '/result'>\n",
    "        <input type = 'text' name = 'first'>\n",
    "        <input type = 'text' name = 'second'>\n",
    "        <input type = 'text' name = 'third'>\n",
    "        <input type = 'submit' name = '제출'>\n",
    "    </form>\n",
    "    '''\n",
    "    return html\n",
    "\n",
    "\n",
    "@app.route('/result', methods = ['GET', 'POST'])\n",
    "def result() :\n",
    "    if request.method == 'POST' : # POST 방식인 경우\n",
    "        result = request.form # 사용자의 input\n",
    "        return result\n",
    "    else :\n",
    "        return 'error page'\n",
    "\n",
    "if __name__ == '__main__' :\n",
    "    app.run()"
   ]
  },
  {
   "cell_type": "markdown",
   "metadata": {},
   "source": [
    "<br/>\n",
    "<br/>"
   ]
  },
  {
   "cell_type": "markdown",
   "metadata": {},
   "source": [
    "- 결과를 html 형식으로"
   ]
  },
  {
   "cell_type": "code",
   "execution_count": 15,
   "metadata": {},
   "outputs": [
    {
     "name": "stdout",
     "output_type": "stream",
     "text": [
      " * Serving Flask app \"__main__\" (lazy loading)\n",
      " * Environment: production\n",
      "   WARNING: This is a development server. Do not use it in a production deployment.\n",
      "   Use a production WSGI server instead.\n",
      " * Debug mode: off\n"
     ]
    },
    {
     "name": "stderr",
     "output_type": "stream",
     "text": [
      " * Running on http://127.0.0.1:5000/ (Press CTRL+C to quit)\n",
      "127.0.0.1 - - [12/Oct/2021 11:29:17] \"\u001b[37mGET / HTTP/1.1\u001b[0m\" 200 -\n",
      "127.0.0.1 - - [12/Oct/2021 11:29:21] \"\u001b[37mPOST /result HTTP/1.1\u001b[0m\" 200 -\n"
     ]
    }
   ],
   "source": [
    "from flask import Flask, request\n",
    "\n",
    "app = Flask(__name__)\n",
    "\n",
    "@app.route('/')\n",
    "def home() :\n",
    "    html = '''\n",
    "    <form method = 'POST' action = '/result'>\n",
    "        <input type = 'text' name = 'first'>\n",
    "        <input type = 'text' name = 'second'>\n",
    "        <input type = 'text' name = 'third'>\n",
    "        <input type = 'submit' name = '제출'>\n",
    "    </form>\n",
    "    '''\n",
    "    return html\n",
    "\n",
    "\n",
    "@app.route('/result', methods = ['GET', 'POST'])\n",
    "def result() :\n",
    "    if request.method == 'POST' :\n",
    "        result = request.form\n",
    "        \n",
    "        return_values = f'''\n",
    "        <h3>First value : {result['first']}</h3>\n",
    "        <h3>Second value : {result['second']}</h3>\n",
    "        <h3>Third value : {result['third']}</h3>\n",
    "        '''\n",
    "        \n",
    "        return return_values\n",
    "    else :\n",
    "        return 'error page'\n",
    "\n",
    "if __name__ == '__main__' :\n",
    "    app.run()"
   ]
  }
 ],
 "metadata": {
  "kernelspec": {
   "display_name": "Python 3",
   "language": "python",
   "name": "python3"
  },
  "language_info": {
   "codemirror_mode": {
    "name": "ipython",
    "version": 3
   },
   "file_extension": ".py",
   "mimetype": "text/x-python",
   "name": "python",
   "nbconvert_exporter": "python",
   "pygments_lexer": "ipython3",
   "version": "3.8.5"
  }
 },
 "nbformat": 4,
 "nbformat_minor": 5
}
