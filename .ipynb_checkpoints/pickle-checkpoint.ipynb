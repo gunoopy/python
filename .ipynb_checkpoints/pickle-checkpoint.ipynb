{
 "cells": [
  {
   "cell_type": "markdown",
   "metadata": {},
   "source": [
    "# pickle 모듈\n",
    "> 일반 텍스트(문자열)를 파일로 저장할 때는 파일 입출력 이용  \n",
    "> 텍스트가 아닌 자료형(리스트, 클래스)은 pickle 모듈을 이용하여 저장"
   ]
  },
  {
   "cell_type": "markdown",
   "metadata": {},
   "source": [
    "* 일반적인 텍스트를 파일로 저장"
   ]
  },
  {
   "cell_type": "code",
   "execution_count": 3,
   "metadata": {},
   "outputs": [
    {
     "name": "stdout",
     "output_type": "stream",
     "text": [
      "hello worldnew text\n"
     ]
    }
   ],
   "source": [
    "text = 'hello world'\n",
    "\n",
    "with open('hello.txt', 'w') as f : # mode : write\n",
    "    f.write(text)\n",
    "    \n",
    "with open('hello.txt', 'a') as f : # mode : append\n",
    "    f.write('new text')\n",
    "\n",
    "with open('hello.txt', 'r') as f : # mode : read\n",
    "    read_text = f.read()\n",
    "    print(read_text)"
   ]
  },
  {
   "cell_type": "code",
   "execution_count": 7,
   "metadata": {},
   "outputs": [
    {
     "name": "stdout",
     "output_type": "stream",
     "text": [
      "hello world1\n",
      "\n",
      "hello world2\n",
      "\n",
      "hello world3\n",
      "-------------------------------------------------------\n",
      "['hello world1\\n', 'hello world2\\n', 'hello world3']\n"
     ]
    }
   ],
   "source": [
    "text = '''hello world1\n",
    "hello world2\n",
    "hello world3'''\n",
    "\n",
    "with open('hello2.txt', 'w') as f :\n",
    "    f.write(text)\n",
    "    \n",
    "with open('hello2.txt', 'r') as f :\n",
    "    while True :\n",
    "        line = f.readline() # 1줄씩\n",
    "        \n",
    "        if not line : break\n",
    "            \n",
    "        print(line)\n",
    "        \n",
    "print('-------------------------------------------------------')\n",
    "    \n",
    "with open('hello2.txt', 'r') as f :\n",
    "    lines = f.readlines() # 1줄씩 리스트에 모두 저장\n",
    "    print(lines)"
   ]
  },
  {
   "cell_type": "markdown",
   "metadata": {},
   "source": [
    "## pickle 모듈을 활용한 데이터 입력 및 로드"
   ]
  },
  {
   "cell_type": "markdown",
   "metadata": {},
   "source": [
    "### 입력\n",
    "* piclke.dump(data, file)"
   ]
  },
  {
   "cell_type": "code",
   "execution_count": 11,
   "metadata": {},
   "outputs": [],
   "source": [
    "import pickle\n",
    "\n",
    "abc = {\n",
    "    'a' : [1,2,3],\n",
    "    'b' : [4,5,6],\n",
    "    'c' : [7,8,9]\n",
    "}\n",
    "\n",
    "with open('abc.txt', 'wb') as f :\n",
    "    pickle.dump(abc, f)"
   ]
  },
  {
   "cell_type": "markdown",
   "metadata": {},
   "source": [
    "### 로드\n",
    "* pickle.load(file)"
   ]
  },
  {
   "cell_type": "code",
   "execution_count": 14,
   "metadata": {},
   "outputs": [
    {
     "name": "stdout",
     "output_type": "stream",
     "text": [
      "{'a': [1, 2, 3], 'b': [4, 5, 6], 'c': [7, 8, 9]}\n",
      "<class 'dict'>\n"
     ]
    }
   ],
   "source": [
    "with open('abc.txt', 'rb') as f :\n",
    "    data = pickle.load(f)\n",
    "    print(data)\n",
    "    print(type(data))"
   ]
  },
  {
   "cell_type": "markdown",
   "metadata": {},
   "source": [
    "### 참고"
   ]
  },
  {
   "cell_type": "markdown",
   "metadata": {},
   "source": [
    "* `.bin` 형식으로 저장"
   ]
  },
  {
   "cell_type": "code",
   "execution_count": 15,
   "metadata": {},
   "outputs": [
    {
     "name": "stdout",
     "output_type": "stream",
     "text": [
      "{'a': [1, 2, 3], 'b': [4, 5, 6], 'c': [7, 8, 9]}\n",
      "<class 'dict'>\n"
     ]
    }
   ],
   "source": [
    "abc = {\n",
    "    'a' : [1,2,3],\n",
    "    'b' : [4,5,6],\n",
    "    'c' : [7,8,9]\n",
    "}\n",
    "\n",
    "with open('abc2.bin', 'wb') as f :\n",
    "    pickle.dump(abc, f)\n",
    "    \n",
    "with open('abc2.bin', 'rb') as f :\n",
    "    data = pickle.load(f)\n",
    "    print(data)\n",
    "    print(type(data))"
   ]
  },
  {
   "cell_type": "markdown",
   "metadata": {},
   "source": [
    "* `DataFrame` 저장"
   ]
  },
  {
   "cell_type": "code",
   "execution_count": 16,
   "metadata": {},
   "outputs": [
    {
     "name": "stdout",
     "output_type": "stream",
     "text": [
      "   A  B  C\n",
      "0  1  4  7\n",
      "1  2  5  8\n",
      "2  3  6  9\n",
      "<class 'pandas.core.frame.DataFrame'>\n"
     ]
    }
   ],
   "source": [
    "import pandas as pd\n",
    "\n",
    "df = pd.DataFrame({\n",
    "    'A' : [1,2,3],\n",
    "    'B' : [4,5,6],\n",
    "    'C' : [7,8,9]\n",
    "})\n",
    "\n",
    "with open('df.bin', 'wb') as f :\n",
    "    pickle.dump(df, f)\n",
    "    \n",
    "with open('df.bin', 'rb') as f :\n",
    "    data = pickle.load(f)\n",
    "    print(data)\n",
    "    print(type(data))"
   ]
  }
 ],
 "metadata": {
  "kernelspec": {
   "display_name": "Python 3",
   "language": "python",
   "name": "python3"
  },
  "language_info": {
   "codemirror_mode": {
    "name": "ipython",
    "version": 3
   },
   "file_extension": ".py",
   "mimetype": "text/x-python",
   "name": "python",
   "nbconvert_exporter": "python",
   "pygments_lexer": "ipython3",
   "version": "3.8.5"
  }
 },
 "nbformat": 4,
 "nbformat_minor": 4
}
