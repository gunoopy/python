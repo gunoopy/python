{
 "cells": [
  {
   "cell_type": "code",
   "execution_count": 6,
   "metadata": {
    "ExecuteTime": {
     "end_time": "2021-10-25T01:19:21.450059Z",
     "start_time": "2021-10-25T01:19:21.446058Z"
    }
   },
   "outputs": [],
   "source": [
    "import numpy as np\n",
    "import pandas as pd\n",
    "import matplotlib.pyplot as plt\n",
    "import seaborn as sns\n",
    "import pickle"
   ]
  },
  {
   "cell_type": "code",
   "execution_count": 7,
   "metadata": {
    "ExecuteTime": {
     "end_time": "2021-10-25T01:19:21.497178Z",
     "start_time": "2021-10-25T01:19:21.451053Z"
    }
   },
   "outputs": [
    {
     "data": {
      "text/plain": [
       "((150, 4), (150, 3), {0: 'setosa', 1: 'versicolor', 2: 'virginica'})"
      ]
     },
     "execution_count": 7,
     "metadata": {},
     "output_type": "execute_result"
    }
   ],
   "source": [
    "X = sns.load_dataset('iris')\n",
    "y = X.pop('species')\n",
    "\n",
    "y = pd.get_dummies(y)\n",
    "\n",
    "# save label information file\n",
    "labels = y.columns\n",
    "labels = {i : label for i, label in enumerate(labels)}\n",
    "with open('label_info.pickle', 'wb') as f :\n",
    "    pickle.dump(labels, f)\n",
    "\n",
    "# read label information file\n",
    "with open('label_info.pickle', 'rb') as f :\n",
    "    labels = pickle.load(f)\n",
    "\n",
    "X = X.to_numpy() # float64\n",
    "y = y.to_numpy() # uint8\n",
    "\n",
    "\n",
    "X.shape, y.shape, labels"
   ]
  },
  {
   "cell_type": "code",
   "execution_count": 8,
   "metadata": {
    "ExecuteTime": {
     "end_time": "2021-10-25T01:19:21.808260Z",
     "start_time": "2021-10-25T01:19:21.500179Z"
    }
   },
   "outputs": [
    {
     "data": {
      "text/plain": [
       "[(105, 4), (45, 4), (105, 3), (45, 3)]"
      ]
     },
     "execution_count": 8,
     "metadata": {},
     "output_type": "execute_result"
    }
   ],
   "source": [
    "from sklearn.model_selection import train_test_split\n",
    "\n",
    "X_train, X_test, y_train, y_test = train_test_split(X, y,\n",
    "                                                   random_state = 42,\n",
    "                                                   test_size = 0.3)\n",
    "\n",
    "[d.shape for d in [X_train, X_test, y_train, y_test]]"
   ]
  },
  {
   "cell_type": "code",
   "execution_count": 9,
   "metadata": {
    "ExecuteTime": {
     "end_time": "2021-10-25T01:19:21.824268Z",
     "start_time": "2021-10-25T01:19:21.810273Z"
    },
    "scrolled": true
   },
   "outputs": [
    {
     "data": {
      "text/plain": [
       "array([[ 0.3100623 , -0.50256349,  0.484213  , -0.05282593]])"
      ]
     },
     "execution_count": 9,
     "metadata": {},
     "output_type": "execute_result"
    }
   ],
   "source": [
    "from sklearn.preprocessing import StandardScaler\n",
    "\n",
    "scaler = StandardScaler()\n",
    "X_train_scaled = scaler.fit_transform(X_train)\n",
    "X_test_scaled = scaler.transform(X_test)\n",
    "\n",
    "# save scaler file\n",
    "with open('standard_scaler.pickle', 'wb') as f :\n",
    "    pickle.dump(scaler, f)\n",
    "\n",
    "# read scaler file\n",
    "with open('standard_scaler.pickle', 'rb') as f :\n",
    "    scaler = pickle.load(f)\n",
    "    \n",
    "# test\n",
    "scaler.transform(X_test[0].reshape(1, -1))"
   ]
  },
  {
   "cell_type": "code",
   "execution_count": 10,
   "metadata": {
    "ExecuteTime": {
     "end_time": "2021-10-25T01:19:25.364132Z",
     "start_time": "2021-10-25T01:19:21.826259Z"
    }
   },
   "outputs": [
    {
     "name": "stdout",
     "output_type": "stream",
     "text": [
      "Model: \"model\"\n",
      "_________________________________________________________________\n",
      "Layer (type)                 Output Shape              Param #   \n",
      "=================================================================\n",
      "input_1 (InputLayer)         [(None, 4)]               0         \n",
      "_________________________________________________________________\n",
      "dense (Dense)                (None, 8)                 40        \n",
      "_________________________________________________________________\n",
      "dense_1 (Dense)              (None, 16)                144       \n",
      "_________________________________________________________________\n",
      "dense_2 (Dense)              (None, 3)                 51        \n",
      "=================================================================\n",
      "Total params: 235\n",
      "Trainable params: 235\n",
      "Non-trainable params: 0\n",
      "_________________________________________________________________\n"
     ]
    }
   ],
   "source": [
    "from tensorflow.keras import models, layers\n",
    "\n",
    "inputs = layers.Input(shape = (X_train_scaled.shape[1],))\n",
    "\n",
    "x = layers.Dense(8, activation = 'relu')(inputs)\n",
    "x = layers.Dense(16, activation = 'relu')(x)\n",
    "outputs = layers.Dense(y_train.shape[1], activation = 'softmax')(x)\n",
    "\n",
    "model = models.Model(inputs, outputs)\n",
    "\n",
    "\n",
    "model.compile(loss = 'categorical_crossentropy',\n",
    "             optimizer = 'adam',\n",
    "             metrics = ['accuracy'])\n",
    "\n",
    "model.summary()"
   ]
  },
  {
   "cell_type": "code",
   "execution_count": 11,
   "metadata": {
    "ExecuteTime": {
     "end_time": "2021-10-25T01:19:28.681145Z",
     "start_time": "2021-10-25T01:19:25.366114Z"
    }
   },
   "outputs": [
    {
     "name": "stdout",
     "output_type": "stream",
     "text": [
      "Epoch 1/50\n",
      "14/14 [==============================] - 1s 45ms/step - loss: 1.1431 - accuracy: 0.2288 - val_loss: 1.0486 - val_accuracy: 0.3556\n",
      "Epoch 2/50\n",
      "14/14 [==============================] - 0s 4ms/step - loss: 1.0861 - accuracy: 0.3607 - val_loss: 0.9928 - val_accuracy: 0.5111\n",
      "Epoch 3/50\n",
      "14/14 [==============================] - 0s 3ms/step - loss: 1.0444 - accuracy: 0.4748 - val_loss: 0.9425 - val_accuracy: 0.6444\n",
      "Epoch 4/50\n",
      "14/14 [==============================] - 0s 3ms/step - loss: 0.9748 - accuracy: 0.5799 - val_loss: 0.8950 - val_accuracy: 0.6889\n",
      "Epoch 5/50\n",
      "14/14 [==============================] - 0s 3ms/step - loss: 0.9493 - accuracy: 0.7063 - val_loss: 0.8497 - val_accuracy: 0.7778\n",
      "Epoch 6/50\n",
      "14/14 [==============================] - 0s 3ms/step - loss: 0.9055 - accuracy: 0.7216 - val_loss: 0.7994 - val_accuracy: 0.8667\n",
      "Epoch 7/50\n",
      "14/14 [==============================] - 0s 3ms/step - loss: 0.8416 - accuracy: 0.8528 - val_loss: 0.7524 - val_accuracy: 0.8444\n",
      "Epoch 8/50\n",
      "14/14 [==============================] - 0s 3ms/step - loss: 0.8344 - accuracy: 0.8514 - val_loss: 0.7074 - val_accuracy: 0.8222\n",
      "Epoch 9/50\n",
      "14/14 [==============================] - 0s 3ms/step - loss: 0.7872 - accuracy: 0.8239 - val_loss: 0.6640 - val_accuracy: 0.8444\n",
      "Epoch 10/50\n",
      "14/14 [==============================] - 0s 3ms/step - loss: 0.7218 - accuracy: 0.8542 - val_loss: 0.6233 - val_accuracy: 0.8444\n",
      "Epoch 11/50\n",
      "14/14 [==============================] - 0s 3ms/step - loss: 0.6650 - accuracy: 0.8524 - val_loss: 0.5849 - val_accuracy: 0.8222\n",
      "Epoch 12/50\n",
      "14/14 [==============================] - 0s 3ms/step - loss: 0.6801 - accuracy: 0.8590 - val_loss: 0.5488 - val_accuracy: 0.8000\n",
      "Epoch 13/50\n",
      "14/14 [==============================] - 0s 3ms/step - loss: 0.6283 - accuracy: 0.8415 - val_loss: 0.5137 - val_accuracy: 0.8222\n",
      "Epoch 14/50\n",
      "14/14 [==============================] - 0s 3ms/step - loss: 0.5662 - accuracy: 0.8693 - val_loss: 0.4819 - val_accuracy: 0.8222\n",
      "Epoch 15/50\n",
      "14/14 [==============================] - 0s 3ms/step - loss: 0.5720 - accuracy: 0.8412 - val_loss: 0.4536 - val_accuracy: 0.8222\n",
      "Epoch 16/50\n",
      "14/14 [==============================] - 0s 3ms/step - loss: 0.5285 - accuracy: 0.8574 - val_loss: 0.4286 - val_accuracy: 0.8222\n",
      "Epoch 17/50\n",
      "14/14 [==============================] - 0s 3ms/step - loss: 0.4622 - accuracy: 0.8370 - val_loss: 0.4081 - val_accuracy: 0.8222\n",
      "Epoch 18/50\n",
      "14/14 [==============================] - 0s 3ms/step - loss: 0.4357 - accuracy: 0.8446 - val_loss: 0.3925 - val_accuracy: 0.8222\n",
      "Epoch 19/50\n",
      "14/14 [==============================] - 0s 3ms/step - loss: 0.4181 - accuracy: 0.8972 - val_loss: 0.3762 - val_accuracy: 0.8222\n",
      "Epoch 20/50\n",
      "14/14 [==============================] - 0s 3ms/step - loss: 0.4066 - accuracy: 0.8717 - val_loss: 0.3583 - val_accuracy: 0.8222\n",
      "Epoch 21/50\n",
      "14/14 [==============================] - 0s 3ms/step - loss: 0.4279 - accuracy: 0.8350 - val_loss: 0.3418 - val_accuracy: 0.8222\n",
      "Epoch 22/50\n",
      "14/14 [==============================] - 0s 3ms/step - loss: 0.3750 - accuracy: 0.8554 - val_loss: 0.3237 - val_accuracy: 0.8667\n",
      "Epoch 23/50\n",
      "14/14 [==============================] - 0s 3ms/step - loss: 0.4076 - accuracy: 0.8482 - val_loss: 0.3092 - val_accuracy: 0.8667\n",
      "Epoch 24/50\n",
      "14/14 [==============================] - 0s 3ms/step - loss: 0.3745 - accuracy: 0.8432 - val_loss: 0.2950 - val_accuracy: 0.8889\n",
      "Epoch 25/50\n",
      "14/14 [==============================] - 0s 3ms/step - loss: 0.3523 - accuracy: 0.8530 - val_loss: 0.2865 - val_accuracy: 0.8667\n",
      "Epoch 26/50\n",
      "14/14 [==============================] - 0s 3ms/step - loss: 0.3493 - accuracy: 0.8565 - val_loss: 0.2761 - val_accuracy: 0.8667\n",
      "Epoch 27/50\n",
      "14/14 [==============================] - 0s 3ms/step - loss: 0.3326 - accuracy: 0.8585 - val_loss: 0.2614 - val_accuracy: 0.9111\n",
      "Epoch 28/50\n",
      "14/14 [==============================] - 0s 3ms/step - loss: 0.3160 - accuracy: 0.8843 - val_loss: 0.2510 - val_accuracy: 0.9111\n",
      "Epoch 29/50\n",
      "14/14 [==============================] - 0s 3ms/step - loss: 0.2791 - accuracy: 0.8998 - val_loss: 0.2417 - val_accuracy: 0.9111\n",
      "Epoch 30/50\n",
      "14/14 [==============================] - 0s 3ms/step - loss: 0.2776 - accuracy: 0.8887 - val_loss: 0.2314 - val_accuracy: 0.9333\n",
      "Epoch 31/50\n",
      "14/14 [==============================] - 0s 3ms/step - loss: 0.2680 - accuracy: 0.8576 - val_loss: 0.2313 - val_accuracy: 0.8889\n",
      "Epoch 32/50\n",
      "14/14 [==============================] - 0s 3ms/step - loss: 0.2553 - accuracy: 0.9062 - val_loss: 0.2140 - val_accuracy: 0.9333\n",
      "Epoch 33/50\n",
      "14/14 [==============================] - 0s 3ms/step - loss: 0.2378 - accuracy: 0.9537 - val_loss: 0.1999 - val_accuracy: 0.9778\n",
      "Epoch 34/50\n",
      "14/14 [==============================] - 0s 3ms/step - loss: 0.2676 - accuracy: 0.9161 - val_loss: 0.1915 - val_accuracy: 0.9778\n",
      "Epoch 35/50\n",
      "14/14 [==============================] - 0s 3ms/step - loss: 0.2237 - accuracy: 0.9638 - val_loss: 0.1869 - val_accuracy: 0.9556\n",
      "Epoch 36/50\n",
      "14/14 [==============================] - 0s 3ms/step - loss: 0.2227 - accuracy: 0.9390 - val_loss: 0.1794 - val_accuracy: 0.9556\n",
      "Epoch 37/50\n",
      "14/14 [==============================] - 0s 3ms/step - loss: 0.2342 - accuracy: 0.9196 - val_loss: 0.1699 - val_accuracy: 1.0000\n",
      "Epoch 38/50\n",
      "14/14 [==============================] - 0s 3ms/step - loss: 0.1726 - accuracy: 0.9649 - val_loss: 0.1624 - val_accuracy: 1.0000\n",
      "Epoch 39/50\n",
      "14/14 [==============================] - 0s 3ms/step - loss: 0.2404 - accuracy: 0.9381 - val_loss: 0.1542 - val_accuracy: 1.0000\n",
      "Epoch 40/50\n",
      "14/14 [==============================] - 0s 3ms/step - loss: 0.2278 - accuracy: 0.9099 - val_loss: 0.1489 - val_accuracy: 1.0000\n",
      "Epoch 41/50\n",
      "14/14 [==============================] - 0s 3ms/step - loss: 0.2139 - accuracy: 0.9320 - val_loss: 0.1427 - val_accuracy: 1.0000\n",
      "Epoch 42/50\n",
      "14/14 [==============================] - 0s 3ms/step - loss: 0.1931 - accuracy: 0.9414 - val_loss: 0.1346 - val_accuracy: 1.0000\n",
      "Epoch 43/50\n",
      "14/14 [==============================] - 0s 3ms/step - loss: 0.2377 - accuracy: 0.9064 - val_loss: 0.1280 - val_accuracy: 1.0000\n",
      "Epoch 44/50\n",
      "14/14 [==============================] - 0s 3ms/step - loss: 0.1790 - accuracy: 0.9518 - val_loss: 0.1230 - val_accuracy: 1.0000\n",
      "Epoch 45/50\n",
      "14/14 [==============================] - 0s 3ms/step - loss: 0.1559 - accuracy: 0.9569 - val_loss: 0.1177 - val_accuracy: 1.0000\n",
      "Epoch 46/50\n",
      "14/14 [==============================] - 0s 3ms/step - loss: 0.1698 - accuracy: 0.9557 - val_loss: 0.1100 - val_accuracy: 1.0000\n",
      "Epoch 47/50\n",
      "14/14 [==============================] - 0s 3ms/step - loss: 0.1432 - accuracy: 0.9539 - val_loss: 0.1071 - val_accuracy: 1.0000\n",
      "Epoch 48/50\n",
      "14/14 [==============================] - 0s 3ms/step - loss: 0.1440 - accuracy: 0.9588 - val_loss: 0.1010 - val_accuracy: 1.0000\n",
      "Epoch 49/50\n",
      "14/14 [==============================] - 0s 3ms/step - loss: 0.1532 - accuracy: 0.9579 - val_loss: 0.0979 - val_accuracy: 1.0000\n",
      "Epoch 50/50\n",
      "14/14 [==============================] - 0s 3ms/step - loss: 0.1487 - accuracy: 0.9582 - val_loss: 0.0933 - val_accuracy: 1.0000\n"
     ]
    }
   ],
   "source": [
    "hist = model.fit(X_train_scaled, y_train,\n",
    "                epochs = 50,\n",
    "                batch_size = 8,\n",
    "                validation_data = (X_test_scaled, y_test))"
   ]
  },
  {
   "cell_type": "code",
   "execution_count": 12,
   "metadata": {
    "ExecuteTime": {
     "end_time": "2021-10-25T01:19:28.944116Z",
     "start_time": "2021-10-25T01:19:28.683152Z"
    }
   },
   "outputs": [
    {
     "data": {
      "image/png": "[encoded data removed]",
      "text/plain": [
       "<Figure size 1008x288 with 2 Axes>"
      ]
     },
     "metadata": {
      "needs_background": "light"
     },
     "output_type": "display_data"
    }
   ],
   "source": [
    "plt.figure(figsize = (14, 4))\n",
    "\n",
    "plt.subplot(1, 2, 1)\n",
    "plt.plot(hist.epoch, hist.history['loss'], label = 'Train')\n",
    "plt.plot(hist.epoch, hist.history['val_loss'], label = 'Validation')\n",
    "plt.title('Loss')\n",
    "plt.xlabel('Epoch')\n",
    "plt.ylabel('Loss')\n",
    "plt.legend()\n",
    "\n",
    "plt.subplot(1, 2, 2)\n",
    "plt.plot(hist.epoch, hist.history['accuracy'], label = 'Train')\n",
    "plt.plot(hist.epoch, hist.history['val_accuracy'], label = 'Validation')\n",
    "plt.title('Accuracy')\n",
    "plt.xlabel('Epoch')\n",
    "plt.ylabel('Accuracy')\n",
    "plt.legend()\n",
    "\n",
    "plt.show()"
   ]
  },
  {
   "cell_type": "code",
   "execution_count": 13,
   "metadata": {
    "ExecuteTime": {
     "end_time": "2021-10-25T01:19:28.990656Z",
     "start_time": "2021-10-25T01:19:28.946102Z"
    }
   },
   "outputs": [],
   "source": [
    "model.save('iris_model.h5')"
   ]
  },
  {
   "cell_type": "code",
   "execution_count": 14,
   "metadata": {
    "ExecuteTime": {
     "end_time": "2021-10-25T01:19:29.006245Z",
     "start_time": "2021-10-25T01:19:28.993675Z"
    }
   },
   "outputs": [
    {
     "data": {
      "text/plain": [
       "array([6.1, 2.8, 4.7, 1.2])"
      ]
     },
     "execution_count": 14,
     "metadata": {},
     "output_type": "execute_result"
    }
   ],
   "source": [
    "new_data = X_test[0]\n",
    "new_data"
   ]
  },
  {
   "cell_type": "code",
   "execution_count": 15,
   "metadata": {
    "ExecuteTime": {
     "end_time": "2021-10-25T01:19:29.021366Z",
     "start_time": "2021-10-25T01:19:29.008257Z"
    }
   },
   "outputs": [
    {
     "data": {
      "text/plain": [
       "array([[ 0.3100623 , -0.50256349,  0.484213  , -0.05282593]])"
      ]
     },
     "execution_count": 15,
     "metadata": {},
     "output_type": "execute_result"
    }
   ],
   "source": [
    "with open('standard_scaler.pickle', 'rb') as f :\n",
    "    scaler = pickle.load(f)\n",
    "\n",
    "new_data = scaler.transform(new_data.reshape(1, -1))\n",
    "new_data"
   ]
  },
  {
   "cell_type": "code",
   "execution_count": 16,
   "metadata": {
    "ExecuteTime": {
     "end_time": "2021-10-25T01:19:29.132039Z",
     "start_time": "2021-10-25T01:19:29.022362Z"
    }
   },
   "outputs": [
    {
     "data": {
      "text/plain": [
       "(array([0.00624635, 0.86175835, 0.13199532], dtype=float32), 1)"
      ]
     },
     "execution_count": 16,
     "metadata": {},
     "output_type": "execute_result"
    }
   ],
   "source": [
    "pred_prob = model.predict(new_data)[0]\n",
    "pred_class = pred_prob.argmax()\n",
    "\n",
    "pred_prob, pred_class"
   ]
  },
  {
   "cell_type": "code",
   "execution_count": 19,
   "metadata": {
    "ExecuteTime": {
     "end_time": "2021-10-25T01:19:44.425457Z",
     "start_time": "2021-10-25T01:19:44.406918Z"
    }
   },
   "outputs": [
    {
     "data": {
      "text/html": [
       "<div>\n",
       "<style scoped>\n",
       "    .dataframe tbody tr th:only-of-type {\n",
       "        vertical-align: middle;\n",
       "    }\n",
       "\n",
       "    .dataframe tbody tr th {\n",
       "        vertical-align: top;\n",
       "    }\n",
       "\n",
       "    .dataframe thead th {\n",
       "        text-align: right;\n",
       "    }\n",
       "</style>\n",
       "<table border=\"1\" class=\"dataframe\">\n",
       "  <thead>\n",
       "    <tr style=\"text-align: right;\">\n",
       "      <th></th>\n",
       "      <th>index</th>\n",
       "      <th>prob</th>\n",
       "    </tr>\n",
       "  </thead>\n",
       "  <tbody>\n",
       "    <tr>\n",
       "      <th>2</th>\n",
       "      <td>versicolor</td>\n",
       "      <td>0.861758</td>\n",
       "    </tr>\n",
       "    <tr>\n",
       "      <th>1</th>\n",
       "      <td>virginica</td>\n",
       "      <td>0.131995</td>\n",
       "    </tr>\n",
       "    <tr>\n",
       "      <th>0</th>\n",
       "      <td>setosa</td>\n",
       "      <td>0.006246</td>\n",
       "    </tr>\n",
       "  </tbody>\n",
       "</table>\n",
       "</div>"
      ],
      "text/plain": [
       "        index      prob\n",
       "2  versicolor  0.861758\n",
       "1   virginica  0.131995\n",
       "0      setosa  0.006246"
      ]
     },
     "execution_count": 19,
     "metadata": {},
     "output_type": "execute_result"
    }
   ],
   "source": [
    "with open('label_info.pickle', 'rb') as f :\n",
    "    labels = pickle.load(f)\n",
    "    \n",
    "pred_prob = pd.DataFrame(pred_prob, columns = ['prob']).rename(index = labels)\n",
    "pred_prob = pred_prob.reset_index().sort_values('prob', ascending = False)\n",
    "pred_prob"
   ]
  },
  {
   "cell_type": "code",
   "execution_count": 20,
   "metadata": {
    "ExecuteTime": {
     "end_time": "2021-10-25T01:19:44.646507Z",
     "start_time": "2021-10-25T01:19:44.558623Z"
    }
   },
   "outputs": [
    {
     "data": {
      "image/png": "[encoded data removed]",
      "text/plain": [
       "<Figure size 432x288 with 1 Axes>"
      ]
     },
     "metadata": {
      "needs_background": "light"
     },
     "output_type": "display_data"
    }
   ],
   "source": [
    "sns.barplot(data = pred_prob, x = 'prob', y = 'index')\n",
    "\n",
    "plt.xlabel('Probability')\n",
    "plt.ylabel('')\n",
    "\n",
    "plt.xlim(0, 1)\n",
    "\n",
    "plt.show()"
   ]
  }
 ],
 "metadata": {
  "kernelspec": {
   "display_name": "Python 3",
   "language": "python",
   "name": "python3"
  },
  "language_info": {
   "codemirror_mode": {
    "name": "ipython",
    "version": 3
   },
   "file_extension": ".py",
   "mimetype": "text/x-python",
   "name": "python",
   "nbconvert_exporter": "python",
   "pygments_lexer": "ipython3",
   "version": "3.8.5"
  },
  "toc": {
   "base_numbering": 1,
   "nav_menu": {},
   "number_sections": true,
   "sideBar": true,
   "skip_h1_title": false,
   "title_cell": "Table of Contents",
   "title_sidebar": "Contents",
   "toc_cell": false,
   "toc_position": {},
   "toc_section_display": true,
   "toc_window_display": false
  },
  "varInspector": {
   "cols": {
    "lenName": 16,
    "lenType": 16,
    "lenVar": 40
   },
   "kernels_config": {
    "python": {
     "delete_cmd_postfix": "",
     "delete_cmd_prefix": "del ",
     "library": "var_list.py",
     "varRefreshCmd": "print(var_dic_list())"
    },
    "r": {
     "delete_cmd_postfix": ") ",
     "delete_cmd_prefix": "rm(",
     "library": "var_list.r",
     "varRefreshCmd": "cat(var_dic_list()) "
    }
   },
   "types_to_exclude": [
    "module",
    "function",
    "builtin_function_or_method",
    "instance",
    "_Feature"
   ],
   "window_display": false
  }
 },
 "nbformat": 4,
 "nbformat_minor": 4
}
